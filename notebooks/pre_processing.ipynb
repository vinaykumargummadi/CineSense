{
  "nbformat": 4,
  "nbformat_minor": 0,
  "metadata": {
    "colab": {
      "provenance": [],
      "mount_file_id": "1M_YJu4DaZrfr909koJ3ljrOXTS0S1UfP",
      "authorship_tag": "ABX9TyPAogqxDG25uVtnGHHGVJjz",
      "include_colab_link": true
    },
    "kernelspec": {
      "name": "python3",
      "display_name": "Python 3"
    },
    "language_info": {
      "name": "python"
    }
  },
  "cells": [
    {
      "cell_type": "markdown",
      "metadata": {
        "id": "view-in-github",
        "colab_type": "text"
      },
      "source": [
        "<a href=\"https://colab.research.google.com/github/vinaykumargummadi/CineSense/blob/main/notebooks/pre_processing.ipynb\" target=\"_parent\"><img src=\"https://colab.research.google.com/assets/colab-badge.svg\" alt=\"Open In Colab\"/></a>"
      ]
    },
    {
      "cell_type": "code",
      "execution_count": 1,
      "metadata": {
        "id": "o-k1Jrgp5SCL"
      },
      "outputs": [],
      "source": [
        "import pandas as pd\n",
        "import numpy as np\n",
        "import re\n",
        "\n",
        "import matplotlib.pyplot as plt\n",
        "import seaborn as sns\n",
        "\n",
        "from tqdm.notebook import tqdm_notebook\n",
        "tqdm_notebook.pandas()\n",
        "\n",
        "import warnings\n",
        "warnings.filterwarnings('ignore')"
      ]
    },
    {
      "cell_type": "code",
      "source": [
        "from google.colab import drive\n",
        "drive.mount('/content/drive')"
      ],
      "metadata": {
        "colab": {
          "base_uri": "https://localhost:8080/"
        },
        "id": "Y4ON-A7C8iQR",
        "outputId": "d8328efd-dce3-4732-8105-920a4def5219"
      },
      "execution_count": 2,
      "outputs": [
        {
          "output_type": "stream",
          "name": "stdout",
          "text": [
            "Drive already mounted at /content/drive; to attempt to forcibly remount, call drive.mount(\"/content/drive\", force_remount=True).\n"
          ]
        }
      ]
    },
    {
      "cell_type": "markdown",
      "source": [
        "**Data Preprocessing**"
      ],
      "metadata": {
        "id": "Ehtx2aOZDTOi"
      }
    },
    {
      "cell_type": "code",
      "source": [
        "import re\n",
        "from string import punctuation\n",
        "import spacy\n",
        "import nltk\n",
        "\n",
        "from nltk.stem import WordNetLemmatizer\n",
        "lemmatization_obj = WordNetLemmatizer()\n",
        "\n",
        "from nltk.corpus import stopwords\n",
        "nltk.download('stopwords')"
      ],
      "metadata": {
        "colab": {
          "base_uri": "https://localhost:8080/"
        },
        "id": "efUoXiL1Z0na",
        "outputId": "8e486453-425e-45d8-a941-3410d66eeaf3"
      },
      "execution_count": 3,
      "outputs": [
        {
          "output_type": "stream",
          "name": "stderr",
          "text": [
            "[nltk_data] Downloading package stopwords to /root/nltk_data...\n",
            "[nltk_data]   Unzipping corpora/stopwords.zip.\n"
          ]
        },
        {
          "output_type": "execute_result",
          "data": {
            "text/plain": [
              "True"
            ]
          },
          "metadata": {},
          "execution_count": 3
        }
      ]
    },
    {
      "cell_type": "code",
      "source": [
        "nlp=spacy.load('en_core_web_sm')"
      ],
      "metadata": {
        "id": "RFnkmAXuJnHU"
      },
      "execution_count": 4,
      "outputs": []
    },
    {
      "cell_type": "code",
      "source": [
        "punctuation += '--'\n",
        "punctuation"
      ],
      "metadata": {
        "colab": {
          "base_uri": "https://localhost:8080/",
          "height": 36
        },
        "id": "40x469JhE8nL",
        "outputId": "88b505b6-cc52-4e37-9fb7-353b0c24d356"
      },
      "execution_count": 5,
      "outputs": [
        {
          "output_type": "execute_result",
          "data": {
            "text/plain": [
              "'!\"#$%&\\'()*+,-./:;<=>?@[\\\\]^_`{|}~--'"
            ],
            "application/vnd.google.colaboratory.intrinsic+json": {
              "type": "string"
            }
          },
          "metadata": {},
          "execution_count": 5
        }
      ]
    },
    {
      "cell_type": "code",
      "source": [
        "stop_words = stopwords.words('english')\n",
        "print(stop_words)"
      ],
      "metadata": {
        "colab": {
          "base_uri": "https://localhost:8080/"
        },
        "id": "SW7gbAmWa6tm",
        "outputId": "3cbd0c50-ec97-4ab6-a14f-bda348129edb"
      },
      "execution_count": 6,
      "outputs": [
        {
          "output_type": "stream",
          "name": "stdout",
          "text": [
            "['i', 'me', 'my', 'myself', 'we', 'our', 'ours', 'ourselves', 'you', \"you're\", \"you've\", \"you'll\", \"you'd\", 'your', 'yours', 'yourself', 'yourselves', 'he', 'him', 'his', 'himself', 'she', \"she's\", 'her', 'hers', 'herself', 'it', \"it's\", 'its', 'itself', 'they', 'them', 'their', 'theirs', 'themselves', 'what', 'which', 'who', 'whom', 'this', 'that', \"that'll\", 'these', 'those', 'am', 'is', 'are', 'was', 'were', 'be', 'been', 'being', 'have', 'has', 'had', 'having', 'do', 'does', 'did', 'doing', 'a', 'an', 'the', 'and', 'but', 'if', 'or', 'because', 'as', 'until', 'while', 'of', 'at', 'by', 'for', 'with', 'about', 'against', 'between', 'into', 'through', 'during', 'before', 'after', 'above', 'below', 'to', 'from', 'up', 'down', 'in', 'out', 'on', 'off', 'over', 'under', 'again', 'further', 'then', 'once', 'here', 'there', 'when', 'where', 'why', 'how', 'all', 'any', 'both', 'each', 'few', 'more', 'most', 'other', 'some', 'such', 'no', 'nor', 'not', 'only', 'own', 'same', 'so', 'than', 'too', 'very', 's', 't', 'can', 'will', 'just', 'don', \"don't\", 'should', \"should've\", 'now', 'd', 'll', 'm', 'o', 're', 've', 'y', 'ain', 'aren', \"aren't\", 'couldn', \"couldn't\", 'didn', \"didn't\", 'doesn', \"doesn't\", 'hadn', \"hadn't\", 'hasn', \"hasn't\", 'haven', \"haven't\", 'isn', \"isn't\", 'ma', 'mightn', \"mightn't\", 'mustn', \"mustn't\", 'needn', \"needn't\", 'shan', \"shan't\", 'shouldn', \"shouldn't\", 'wasn', \"wasn't\", 'weren', \"weren't\", 'won', \"won't\", 'wouldn', \"wouldn't\"]\n"
          ]
        }
      ]
    },
    {
      "cell_type": "code",
      "source": [
        "path = r\"/content/drive/MyDrive/01. DSML_ML Algorithms/CineSense/data\"\n",
        "# df.to_csv(path+\"/processed_data.csv\")"
      ],
      "metadata": {
        "id": "PIxOb1oV38TN"
      },
      "execution_count": 7,
      "outputs": []
    },
    {
      "cell_type": "code",
      "source": [
        "df=pd.read_csv(path+\"/processed_data.csv\")\n",
        "df.drop('Unnamed: 0',inplace=True,axis=1)"
      ],
      "metadata": {
        "id": "ntT1sDuV3-zP"
      },
      "execution_count": 8,
      "outputs": []
    },
    {
      "cell_type": "code",
      "source": [
        "df=df[~df.movie_info.isnull()]\n",
        "df.reset_index(drop=True, inplace=True)"
      ],
      "metadata": {
        "id": "lASu4CQABnky"
      },
      "execution_count": 9,
      "outputs": []
    },
    {
      "cell_type": "markdown",
      "source": [
        "**PRE_PROCESS_TEXT:** Function applies all the neccesary steps from removing unwanted tags to STOPWORDS, punctuations as well. Also, finding the root cause of the word using `spacy: lemmatization`"
      ],
      "metadata": {
        "id": "NpKigQz6XeG5"
      }
    },
    {
      "cell_type": "code",
      "source": [
        "def pre_process_text(text):\n",
        "  if isinstance(text,str):\n",
        "    regex_cast = r\"\\((.*?)\\)\"\n",
        "    cast_removed = re.sub(regex_cast, '', text, 0, re.MULTILINE)\n",
        "    doc = nlp(cast_removed)\n",
        "    punct_stop_removed= \" \".join([word.text.lower()  for word in doc if word.text.lower() not in punctuation if word.text.lower() not in stop_words])\n",
        "    word_lemma = \" \".join([word.lemma_ for word in nlp(punct_stop_removed)])\n",
        "    final_text = re.sub(r'\\s+', ' ', word_lemma)\n",
        "  else:\n",
        "    return \"\"\n",
        "\n",
        "  return final_text"
      ],
      "metadata": {
        "id": "EG_3nMIEJUmY"
      },
      "execution_count": 10,
      "outputs": []
    },
    {
      "cell_type": "markdown",
      "source": [
        "making sure that our predefined function `pre_process_text` working fine with a sample text"
      ],
      "metadata": {
        "id": "vOr5N0GeW8Tm"
      }
    },
    {
      "cell_type": "code",
      "source": [
        "sample=\"\"\"The film stars Joseph Cotten as Holly Martins, a writer of pulp westerns who arrives penniless as a guest of his childhood chum, Harry Lime. However, Martins discovers that Lime is dead and develops a conspiracy theory. As he learns more about the circumstances of Lime's death, he becomes convinced that a \"third man\" was present at the time. Martins finds himself running interference with British officer Major Calloway and falls head over heels for Lime's grief-stricken lover, Anna.\"\"\"\n",
        "sample"
      ],
      "metadata": {
        "colab": {
          "base_uri": "https://localhost:8080/",
          "height": 71
        },
        "id": "usn2lWf08CpU",
        "outputId": "dde915f5-9e2f-40c9-edb2-1aae248f909e"
      },
      "execution_count": 11,
      "outputs": [
        {
          "output_type": "execute_result",
          "data": {
            "text/plain": [
              "'The film stars Joseph Cotten as Holly Martins, a writer of pulp westerns who arrives penniless as a guest of his childhood chum, Harry Lime. However, Martins discovers that Lime is dead and develops a conspiracy theory. As he learns more about the circumstances of Lime\\'s death, he becomes convinced that a \"third man\" was present at the time. Martins finds himself running interference with British officer Major Calloway and falls head over heels for Lime\\'s grief-stricken lover, Anna.'"
            ],
            "application/vnd.google.colaboratory.intrinsic+json": {
              "type": "string"
            }
          },
          "metadata": {},
          "execution_count": 11
        }
      ]
    },
    {
      "cell_type": "code",
      "source": [
        "words = sample.split()\n",
        "final=\" \".join([word.lower() for word in words if word.lower() not in stop_words])\n",
        "final"
      ],
      "metadata": {
        "colab": {
          "base_uri": "https://localhost:8080/",
          "height": 53
        },
        "id": "ui_nYoDc8CbC",
        "outputId": "1fb60736-c2ce-41de-9851-90429d1ecc74"
      },
      "execution_count": 12,
      "outputs": [
        {
          "output_type": "execute_result",
          "data": {
            "text/plain": [
              "'film stars joseph cotten holly martins, writer pulp westerns arrives penniless guest childhood chum, harry lime. however, martins discovers lime dead develops conspiracy theory. learns circumstances lime\\'s death, becomes convinced \"third man\" present time. martins finds running interference british officer major calloway falls head heels lime\\'s grief-stricken lover, anna.'"
            ],
            "application/vnd.google.colaboratory.intrinsic+json": {
              "type": "string"
            }
          },
          "metadata": {},
          "execution_count": 12
        }
      ]
    },
    {
      "cell_type": "code",
      "source": [
        "doc = nlp(sample)\n",
        "final=\" \".join([token.text.lower() for token in doc if not token.is_stop])\n",
        "final"
      ],
      "metadata": {
        "colab": {
          "base_uri": "https://localhost:8080/",
          "height": 53
        },
        "id": "CobzOuh68CX7",
        "outputId": "bdba173b-1ba3-4dda-90b1-0ca79b8a44e7"
      },
      "execution_count": 13,
      "outputs": [
        {
          "output_type": "execute_result",
          "data": {
            "text/plain": [
              "'film stars joseph cotten holly martins , writer pulp westerns arrives penniless guest childhood chum , harry lime . , martins discovers lime dead develops conspiracy theory . learns circumstances lime death , convinced \" man \" present time . martins finds running interference british officer major calloway falls head heels lime grief - stricken lover , anna .'"
            ],
            "application/vnd.google.colaboratory.intrinsic+json": {
              "type": "string"
            }
          },
          "metadata": {},
          "execution_count": 13
        }
      ]
    },
    {
      "cell_type": "code",
      "source": [],
      "metadata": {
        "id": "uGL1aMn789HY"
      },
      "execution_count": null,
      "outputs": []
    },
    {
      "cell_type": "code",
      "source": [
        "test_sample=df.movie_info.sample(1).values[0]\n",
        "processed_text = pre_process_text(test_sample)\n",
        "print(test_sample,'\\n',processed_text)"
      ],
      "metadata": {
        "colab": {
          "base_uri": "https://localhost:8080/"
        },
        "id": "c6qDqHrvKQ_b",
        "outputId": "344ec107-696d-4b6a-c563-3c86b74b65cd"
      },
      "execution_count": null,
      "outputs": [
        {
          "output_type": "stream",
          "name": "stdout",
          "text": [
            "Gina follows someone impersonating her and discovers her friends and family are involved. \n",
            " gina follow someone impersonate discover friend family involve\n"
          ]
        }
      ]
    },
    {
      "cell_type": "code",
      "source": [
        "#apply the pre-processing steps on the entire function\n",
        "df['processed_movie_info'] = df.movie_info.progress_apply(pre_process_text)"
      ],
      "metadata": {
        "id": "gzfPdFzQKOjX"
      },
      "execution_count": null,
      "outputs": []
    },
    {
      "cell_type": "code",
      "source": [
        "df.head()"
      ],
      "metadata": {
        "colab": {
          "base_uri": "https://localhost:8080/",
          "height": 741
        },
        "id": "sWu_aNSgFOWD",
        "outputId": "ba860ded-4668-43c9-c2fd-04dd6c199e5d"
      },
      "execution_count": 14,
      "outputs": [
        {
          "output_type": "execute_result",
          "data": {
            "text/plain": [
              "                    rotten_tomatoes_link  \\\n",
              "0                              m/0814255   \n",
              "1                              m/0878835   \n",
              "2                                   m/10   \n",
              "3                 m/1000013-12_angry_men   \n",
              "4  m/1000079-20000_leagues_under_the_sea   \n",
              "\n",
              "                                         movie_title  \\\n",
              "0  Percy Jackson & the Olympians: The Lightning T...   \n",
              "1                                        Please Give   \n",
              "2                                                 10   \n",
              "3                    12 Angry Men (Twelve Angry Men)   \n",
              "4                       20,000 Leagues Under The Sea   \n",
              "\n",
              "                                          movie_info content_rating  \\\n",
              "0  Always trouble-prone, the life of teenager Per...             PG   \n",
              "1  Kate (Catherine Keener) and her husband Alex (...              R   \n",
              "2  A successful, middle-aged Hollywood songwriter...              R   \n",
              "3  Following the closing arguments in a murder tr...             NR   \n",
              "4  In 1866, Professor Pierre M. Aronnax (Paul Luk...              G   \n",
              "\n",
              "                                              genres          directors  \\\n",
              "0  Action & Adventure, Comedy, Drama, Science Fic...     Chris Columbus   \n",
              "1                                             Comedy  Nicole Holofcener   \n",
              "2                                    Comedy, Romance      Blake Edwards   \n",
              "3                                    Classics, Drama       Sidney Lumet   \n",
              "4           Action & Adventure, Drama, Kids & Family  Richard Fleischer   \n",
              "\n",
              "                                      authors  \\\n",
              "0  Craig Titley, Chris Columbus, Rick Riordan   \n",
              "1                           Nicole Holofcener   \n",
              "2                               Blake Edwards   \n",
              "3                               Reginald Rose   \n",
              "4                                 Earl Felton   \n",
              "\n",
              "                                              actors original_release_date  \\\n",
              "0  Logan Lerman, Brandon T. Jackson, Alexandra Da...            2010-02-12   \n",
              "1  Catherine Keener, Amanda Peet, Oliver Platt, R...            2010-04-30   \n",
              "2  Dudley Moore, Bo Derek, Julie Andrews, Robert ...            1979-10-05   \n",
              "3  Martin Balsam, John Fiedler, Lee J. Cobb, E.G....            1957-04-13   \n",
              "4  James Mason, Kirk Douglas, Paul Lukas, Peter L...            1954-01-01   \n",
              "\n",
              "  streaming_release_date  ...  tomatometer_status tomatometer_rating  \\\n",
              "0             2015-11-25  ...              Rotten               49.0   \n",
              "1             2012-09-04  ...     Certified-Fresh               87.0   \n",
              "2             2014-07-24  ...               Fresh               67.0   \n",
              "3             2017-01-13  ...     Certified-Fresh              100.0   \n",
              "4             2016-06-10  ...               Fresh               89.0   \n",
              "\n",
              "  tomatometer_count  audience_status  audience_rating audience_count  \\\n",
              "0             149.0          Spilled             53.0       254421.0   \n",
              "1             142.0          Upright             64.0        11574.0   \n",
              "2              24.0          Spilled             53.0        14684.0   \n",
              "3              54.0          Upright             97.0       105386.0   \n",
              "4              27.0          Upright             74.0        68918.0   \n",
              "\n",
              "   tomatometer_top_critics_count  tomatometer_fresh_critics_count  \\\n",
              "0                             43                               73   \n",
              "1                             44                              123   \n",
              "2                              2                               16   \n",
              "3                              6                               54   \n",
              "4                              5                               24   \n",
              "\n",
              "   tomatometer_rotten_critics_count  \\\n",
              "0                                76   \n",
              "1                                19   \n",
              "2                                 8   \n",
              "3                                 0   \n",
              "4                                 3   \n",
              "\n",
              "                                processed_movie_info  \n",
              "0  always trouble prone life teenager percy jacks...  \n",
              "1  kate husband alex wealthy new yorkers prowl es...  \n",
              "2  successful middle aged hollywood songwriter fa...  \n",
              "3  follow closing argument murder trial 12 member...  \n",
              "4  1866 professor pierre m. aronnax assistant con...  \n",
              "\n",
              "[5 rows x 22 columns]"
            ],
            "text/html": [
              "\n",
              "  <div id=\"df-28510381-e884-47d6-a89b-1a5c5a3a4045\" class=\"colab-df-container\">\n",
              "    <div>\n",
              "<style scoped>\n",
              "    .dataframe tbody tr th:only-of-type {\n",
              "        vertical-align: middle;\n",
              "    }\n",
              "\n",
              "    .dataframe tbody tr th {\n",
              "        vertical-align: top;\n",
              "    }\n",
              "\n",
              "    .dataframe thead th {\n",
              "        text-align: right;\n",
              "    }\n",
              "</style>\n",
              "<table border=\"1\" class=\"dataframe\">\n",
              "  <thead>\n",
              "    <tr style=\"text-align: right;\">\n",
              "      <th></th>\n",
              "      <th>rotten_tomatoes_link</th>\n",
              "      <th>movie_title</th>\n",
              "      <th>movie_info</th>\n",
              "      <th>content_rating</th>\n",
              "      <th>genres</th>\n",
              "      <th>directors</th>\n",
              "      <th>authors</th>\n",
              "      <th>actors</th>\n",
              "      <th>original_release_date</th>\n",
              "      <th>streaming_release_date</th>\n",
              "      <th>...</th>\n",
              "      <th>tomatometer_status</th>\n",
              "      <th>tomatometer_rating</th>\n",
              "      <th>tomatometer_count</th>\n",
              "      <th>audience_status</th>\n",
              "      <th>audience_rating</th>\n",
              "      <th>audience_count</th>\n",
              "      <th>tomatometer_top_critics_count</th>\n",
              "      <th>tomatometer_fresh_critics_count</th>\n",
              "      <th>tomatometer_rotten_critics_count</th>\n",
              "      <th>processed_movie_info</th>\n",
              "    </tr>\n",
              "  </thead>\n",
              "  <tbody>\n",
              "    <tr>\n",
              "      <th>0</th>\n",
              "      <td>m/0814255</td>\n",
              "      <td>Percy Jackson &amp; the Olympians: The Lightning T...</td>\n",
              "      <td>Always trouble-prone, the life of teenager Per...</td>\n",
              "      <td>PG</td>\n",
              "      <td>Action &amp; Adventure, Comedy, Drama, Science Fic...</td>\n",
              "      <td>Chris Columbus</td>\n",
              "      <td>Craig Titley, Chris Columbus, Rick Riordan</td>\n",
              "      <td>Logan Lerman, Brandon T. Jackson, Alexandra Da...</td>\n",
              "      <td>2010-02-12</td>\n",
              "      <td>2015-11-25</td>\n",
              "      <td>...</td>\n",
              "      <td>Rotten</td>\n",
              "      <td>49.0</td>\n",
              "      <td>149.0</td>\n",
              "      <td>Spilled</td>\n",
              "      <td>53.0</td>\n",
              "      <td>254421.0</td>\n",
              "      <td>43</td>\n",
              "      <td>73</td>\n",
              "      <td>76</td>\n",
              "      <td>always trouble prone life teenager percy jacks...</td>\n",
              "    </tr>\n",
              "    <tr>\n",
              "      <th>1</th>\n",
              "      <td>m/0878835</td>\n",
              "      <td>Please Give</td>\n",
              "      <td>Kate (Catherine Keener) and her husband Alex (...</td>\n",
              "      <td>R</td>\n",
              "      <td>Comedy</td>\n",
              "      <td>Nicole Holofcener</td>\n",
              "      <td>Nicole Holofcener</td>\n",
              "      <td>Catherine Keener, Amanda Peet, Oliver Platt, R...</td>\n",
              "      <td>2010-04-30</td>\n",
              "      <td>2012-09-04</td>\n",
              "      <td>...</td>\n",
              "      <td>Certified-Fresh</td>\n",
              "      <td>87.0</td>\n",
              "      <td>142.0</td>\n",
              "      <td>Upright</td>\n",
              "      <td>64.0</td>\n",
              "      <td>11574.0</td>\n",
              "      <td>44</td>\n",
              "      <td>123</td>\n",
              "      <td>19</td>\n",
              "      <td>kate husband alex wealthy new yorkers prowl es...</td>\n",
              "    </tr>\n",
              "    <tr>\n",
              "      <th>2</th>\n",
              "      <td>m/10</td>\n",
              "      <td>10</td>\n",
              "      <td>A successful, middle-aged Hollywood songwriter...</td>\n",
              "      <td>R</td>\n",
              "      <td>Comedy, Romance</td>\n",
              "      <td>Blake Edwards</td>\n",
              "      <td>Blake Edwards</td>\n",
              "      <td>Dudley Moore, Bo Derek, Julie Andrews, Robert ...</td>\n",
              "      <td>1979-10-05</td>\n",
              "      <td>2014-07-24</td>\n",
              "      <td>...</td>\n",
              "      <td>Fresh</td>\n",
              "      <td>67.0</td>\n",
              "      <td>24.0</td>\n",
              "      <td>Spilled</td>\n",
              "      <td>53.0</td>\n",
              "      <td>14684.0</td>\n",
              "      <td>2</td>\n",
              "      <td>16</td>\n",
              "      <td>8</td>\n",
              "      <td>successful middle aged hollywood songwriter fa...</td>\n",
              "    </tr>\n",
              "    <tr>\n",
              "      <th>3</th>\n",
              "      <td>m/1000013-12_angry_men</td>\n",
              "      <td>12 Angry Men (Twelve Angry Men)</td>\n",
              "      <td>Following the closing arguments in a murder tr...</td>\n",
              "      <td>NR</td>\n",
              "      <td>Classics, Drama</td>\n",
              "      <td>Sidney Lumet</td>\n",
              "      <td>Reginald Rose</td>\n",
              "      <td>Martin Balsam, John Fiedler, Lee J. Cobb, E.G....</td>\n",
              "      <td>1957-04-13</td>\n",
              "      <td>2017-01-13</td>\n",
              "      <td>...</td>\n",
              "      <td>Certified-Fresh</td>\n",
              "      <td>100.0</td>\n",
              "      <td>54.0</td>\n",
              "      <td>Upright</td>\n",
              "      <td>97.0</td>\n",
              "      <td>105386.0</td>\n",
              "      <td>6</td>\n",
              "      <td>54</td>\n",
              "      <td>0</td>\n",
              "      <td>follow closing argument murder trial 12 member...</td>\n",
              "    </tr>\n",
              "    <tr>\n",
              "      <th>4</th>\n",
              "      <td>m/1000079-20000_leagues_under_the_sea</td>\n",
              "      <td>20,000 Leagues Under The Sea</td>\n",
              "      <td>In 1866, Professor Pierre M. Aronnax (Paul Luk...</td>\n",
              "      <td>G</td>\n",
              "      <td>Action &amp; Adventure, Drama, Kids &amp; Family</td>\n",
              "      <td>Richard Fleischer</td>\n",
              "      <td>Earl Felton</td>\n",
              "      <td>James Mason, Kirk Douglas, Paul Lukas, Peter L...</td>\n",
              "      <td>1954-01-01</td>\n",
              "      <td>2016-06-10</td>\n",
              "      <td>...</td>\n",
              "      <td>Fresh</td>\n",
              "      <td>89.0</td>\n",
              "      <td>27.0</td>\n",
              "      <td>Upright</td>\n",
              "      <td>74.0</td>\n",
              "      <td>68918.0</td>\n",
              "      <td>5</td>\n",
              "      <td>24</td>\n",
              "      <td>3</td>\n",
              "      <td>1866 professor pierre m. aronnax assistant con...</td>\n",
              "    </tr>\n",
              "  </tbody>\n",
              "</table>\n",
              "<p>5 rows × 22 columns</p>\n",
              "</div>\n",
              "    <div class=\"colab-df-buttons\">\n",
              "\n",
              "  <div class=\"colab-df-container\">\n",
              "    <button class=\"colab-df-convert\" onclick=\"convertToInteractive('df-28510381-e884-47d6-a89b-1a5c5a3a4045')\"\n",
              "            title=\"Convert this dataframe to an interactive table.\"\n",
              "            style=\"display:none;\">\n",
              "\n",
              "  <svg xmlns=\"http://www.w3.org/2000/svg\" height=\"24px\" viewBox=\"0 -960 960 960\">\n",
              "    <path d=\"M120-120v-720h720v720H120Zm60-500h600v-160H180v160Zm220 220h160v-160H400v160Zm0 220h160v-160H400v160ZM180-400h160v-160H180v160Zm440 0h160v-160H620v160ZM180-180h160v-160H180v160Zm440 0h160v-160H620v160Z\"/>\n",
              "  </svg>\n",
              "    </button>\n",
              "\n",
              "  <style>\n",
              "    .colab-df-container {\n",
              "      display:flex;\n",
              "      gap: 12px;\n",
              "    }\n",
              "\n",
              "    .colab-df-convert {\n",
              "      background-color: #E8F0FE;\n",
              "      border: none;\n",
              "      border-radius: 50%;\n",
              "      cursor: pointer;\n",
              "      display: none;\n",
              "      fill: #1967D2;\n",
              "      height: 32px;\n",
              "      padding: 0 0 0 0;\n",
              "      width: 32px;\n",
              "    }\n",
              "\n",
              "    .colab-df-convert:hover {\n",
              "      background-color: #E2EBFA;\n",
              "      box-shadow: 0px 1px 2px rgba(60, 64, 67, 0.3), 0px 1px 3px 1px rgba(60, 64, 67, 0.15);\n",
              "      fill: #174EA6;\n",
              "    }\n",
              "\n",
              "    .colab-df-buttons div {\n",
              "      margin-bottom: 4px;\n",
              "    }\n",
              "\n",
              "    [theme=dark] .colab-df-convert {\n",
              "      background-color: #3B4455;\n",
              "      fill: #D2E3FC;\n",
              "    }\n",
              "\n",
              "    [theme=dark] .colab-df-convert:hover {\n",
              "      background-color: #434B5C;\n",
              "      box-shadow: 0px 1px 3px 1px rgba(0, 0, 0, 0.15);\n",
              "      filter: drop-shadow(0px 1px 2px rgba(0, 0, 0, 0.3));\n",
              "      fill: #FFFFFF;\n",
              "    }\n",
              "  </style>\n",
              "\n",
              "    <script>\n",
              "      const buttonEl =\n",
              "        document.querySelector('#df-28510381-e884-47d6-a89b-1a5c5a3a4045 button.colab-df-convert');\n",
              "      buttonEl.style.display =\n",
              "        google.colab.kernel.accessAllowed ? 'block' : 'none';\n",
              "\n",
              "      async function convertToInteractive(key) {\n",
              "        const element = document.querySelector('#df-28510381-e884-47d6-a89b-1a5c5a3a4045');\n",
              "        const dataTable =\n",
              "          await google.colab.kernel.invokeFunction('convertToInteractive',\n",
              "                                                    [key], {});\n",
              "        if (!dataTable) return;\n",
              "\n",
              "        const docLinkHtml = 'Like what you see? Visit the ' +\n",
              "          '<a target=\"_blank\" href=https://colab.research.google.com/notebooks/data_table.ipynb>data table notebook</a>'\n",
              "          + ' to learn more about interactive tables.';\n",
              "        element.innerHTML = '';\n",
              "        dataTable['output_type'] = 'display_data';\n",
              "        await google.colab.output.renderOutput(dataTable, element);\n",
              "        const docLink = document.createElement('div');\n",
              "        docLink.innerHTML = docLinkHtml;\n",
              "        element.appendChild(docLink);\n",
              "      }\n",
              "    </script>\n",
              "  </div>\n",
              "\n",
              "\n",
              "<div id=\"df-5e7408ff-ae8a-4c87-ac66-5a4900b96ad2\">\n",
              "  <button class=\"colab-df-quickchart\" onclick=\"quickchart('df-5e7408ff-ae8a-4c87-ac66-5a4900b96ad2')\"\n",
              "            title=\"Suggest charts\"\n",
              "            style=\"display:none;\">\n",
              "\n",
              "<svg xmlns=\"http://www.w3.org/2000/svg\" height=\"24px\"viewBox=\"0 0 24 24\"\n",
              "     width=\"24px\">\n",
              "    <g>\n",
              "        <path d=\"M19 3H5c-1.1 0-2 .9-2 2v14c0 1.1.9 2 2 2h14c1.1 0 2-.9 2-2V5c0-1.1-.9-2-2-2zM9 17H7v-7h2v7zm4 0h-2V7h2v10zm4 0h-2v-4h2v4z\"/>\n",
              "    </g>\n",
              "</svg>\n",
              "  </button>\n",
              "\n",
              "<style>\n",
              "  .colab-df-quickchart {\n",
              "      --bg-color: #E8F0FE;\n",
              "      --fill-color: #1967D2;\n",
              "      --hover-bg-color: #E2EBFA;\n",
              "      --hover-fill-color: #174EA6;\n",
              "      --disabled-fill-color: #AAA;\n",
              "      --disabled-bg-color: #DDD;\n",
              "  }\n",
              "\n",
              "  [theme=dark] .colab-df-quickchart {\n",
              "      --bg-color: #3B4455;\n",
              "      --fill-color: #D2E3FC;\n",
              "      --hover-bg-color: #434B5C;\n",
              "      --hover-fill-color: #FFFFFF;\n",
              "      --disabled-bg-color: #3B4455;\n",
              "      --disabled-fill-color: #666;\n",
              "  }\n",
              "\n",
              "  .colab-df-quickchart {\n",
              "    background-color: var(--bg-color);\n",
              "    border: none;\n",
              "    border-radius: 50%;\n",
              "    cursor: pointer;\n",
              "    display: none;\n",
              "    fill: var(--fill-color);\n",
              "    height: 32px;\n",
              "    padding: 0;\n",
              "    width: 32px;\n",
              "  }\n",
              "\n",
              "  .colab-df-quickchart:hover {\n",
              "    background-color: var(--hover-bg-color);\n",
              "    box-shadow: 0 1px 2px rgba(60, 64, 67, 0.3), 0 1px 3px 1px rgba(60, 64, 67, 0.15);\n",
              "    fill: var(--button-hover-fill-color);\n",
              "  }\n",
              "\n",
              "  .colab-df-quickchart-complete:disabled,\n",
              "  .colab-df-quickchart-complete:disabled:hover {\n",
              "    background-color: var(--disabled-bg-color);\n",
              "    fill: var(--disabled-fill-color);\n",
              "    box-shadow: none;\n",
              "  }\n",
              "\n",
              "  .colab-df-spinner {\n",
              "    border: 2px solid var(--fill-color);\n",
              "    border-color: transparent;\n",
              "    border-bottom-color: var(--fill-color);\n",
              "    animation:\n",
              "      spin 1s steps(1) infinite;\n",
              "  }\n",
              "\n",
              "  @keyframes spin {\n",
              "    0% {\n",
              "      border-color: transparent;\n",
              "      border-bottom-color: var(--fill-color);\n",
              "      border-left-color: var(--fill-color);\n",
              "    }\n",
              "    20% {\n",
              "      border-color: transparent;\n",
              "      border-left-color: var(--fill-color);\n",
              "      border-top-color: var(--fill-color);\n",
              "    }\n",
              "    30% {\n",
              "      border-color: transparent;\n",
              "      border-left-color: var(--fill-color);\n",
              "      border-top-color: var(--fill-color);\n",
              "      border-right-color: var(--fill-color);\n",
              "    }\n",
              "    40% {\n",
              "      border-color: transparent;\n",
              "      border-right-color: var(--fill-color);\n",
              "      border-top-color: var(--fill-color);\n",
              "    }\n",
              "    60% {\n",
              "      border-color: transparent;\n",
              "      border-right-color: var(--fill-color);\n",
              "    }\n",
              "    80% {\n",
              "      border-color: transparent;\n",
              "      border-right-color: var(--fill-color);\n",
              "      border-bottom-color: var(--fill-color);\n",
              "    }\n",
              "    90% {\n",
              "      border-color: transparent;\n",
              "      border-bottom-color: var(--fill-color);\n",
              "    }\n",
              "  }\n",
              "</style>\n",
              "\n",
              "  <script>\n",
              "    async function quickchart(key) {\n",
              "      const quickchartButtonEl =\n",
              "        document.querySelector('#' + key + ' button');\n",
              "      quickchartButtonEl.disabled = true;  // To prevent multiple clicks.\n",
              "      quickchartButtonEl.classList.add('colab-df-spinner');\n",
              "      try {\n",
              "        const charts = await google.colab.kernel.invokeFunction(\n",
              "            'suggestCharts', [key], {});\n",
              "      } catch (error) {\n",
              "        console.error('Error during call to suggestCharts:', error);\n",
              "      }\n",
              "      quickchartButtonEl.classList.remove('colab-df-spinner');\n",
              "      quickchartButtonEl.classList.add('colab-df-quickchart-complete');\n",
              "    }\n",
              "    (() => {\n",
              "      let quickchartButtonEl =\n",
              "        document.querySelector('#df-5e7408ff-ae8a-4c87-ac66-5a4900b96ad2 button');\n",
              "      quickchartButtonEl.style.display =\n",
              "        google.colab.kernel.accessAllowed ? 'block' : 'none';\n",
              "    })();\n",
              "  </script>\n",
              "</div>\n",
              "\n",
              "    </div>\n",
              "  </div>\n"
            ],
            "application/vnd.google.colaboratory.intrinsic+json": {
              "type": "dataframe",
              "variable_name": "df"
            }
          },
          "metadata": {},
          "execution_count": 14
        }
      ]
    },
    {
      "cell_type": "markdown",
      "source": [
        "**SimilartyMatcher**"
      ],
      "metadata": {
        "id": "gTHT2XXe4Ze5"
      }
    },
    {
      "cell_type": "code",
      "source": [
        "similarity_df = df[['movie_title','movie_info','processed_movie_info']]"
      ],
      "metadata": {
        "id": "kLsiBF2g8-BL"
      },
      "execution_count": 15,
      "outputs": []
    },
    {
      "cell_type": "code",
      "source": [
        "# similarity_df.reset_index(drop=True, inplace=True)"
      ],
      "metadata": {
        "id": "Yf3q5qgFGZrO"
      },
      "execution_count": 16,
      "outputs": []
    },
    {
      "cell_type": "code",
      "source": [
        "similarity_df.head()"
      ],
      "metadata": {
        "colab": {
          "base_uri": "https://localhost:8080/",
          "height": 206
        },
        "id": "lgfT6zXe89-E",
        "outputId": "8adb7286-fc3c-4145-8a00-00f355e554be"
      },
      "execution_count": 17,
      "outputs": [
        {
          "output_type": "execute_result",
          "data": {
            "text/plain": [
              "                                         movie_title  \\\n",
              "0  Percy Jackson & the Olympians: The Lightning T...   \n",
              "1                                        Please Give   \n",
              "2                                                 10   \n",
              "3                    12 Angry Men (Twelve Angry Men)   \n",
              "4                       20,000 Leagues Under The Sea   \n",
              "\n",
              "                                          movie_info  \\\n",
              "0  Always trouble-prone, the life of teenager Per...   \n",
              "1  Kate (Catherine Keener) and her husband Alex (...   \n",
              "2  A successful, middle-aged Hollywood songwriter...   \n",
              "3  Following the closing arguments in a murder tr...   \n",
              "4  In 1866, Professor Pierre M. Aronnax (Paul Luk...   \n",
              "\n",
              "                                processed_movie_info  \n",
              "0  always trouble prone life teenager percy jacks...  \n",
              "1  kate husband alex wealthy new yorkers prowl es...  \n",
              "2  successful middle aged hollywood songwriter fa...  \n",
              "3  follow closing argument murder trial 12 member...  \n",
              "4  1866 professor pierre m. aronnax assistant con...  "
            ],
            "text/html": [
              "\n",
              "  <div id=\"df-bb094e6b-7dea-404d-a3b3-495a2a4e0b27\" class=\"colab-df-container\">\n",
              "    <div>\n",
              "<style scoped>\n",
              "    .dataframe tbody tr th:only-of-type {\n",
              "        vertical-align: middle;\n",
              "    }\n",
              "\n",
              "    .dataframe tbody tr th {\n",
              "        vertical-align: top;\n",
              "    }\n",
              "\n",
              "    .dataframe thead th {\n",
              "        text-align: right;\n",
              "    }\n",
              "</style>\n",
              "<table border=\"1\" class=\"dataframe\">\n",
              "  <thead>\n",
              "    <tr style=\"text-align: right;\">\n",
              "      <th></th>\n",
              "      <th>movie_title</th>\n",
              "      <th>movie_info</th>\n",
              "      <th>processed_movie_info</th>\n",
              "    </tr>\n",
              "  </thead>\n",
              "  <tbody>\n",
              "    <tr>\n",
              "      <th>0</th>\n",
              "      <td>Percy Jackson &amp; the Olympians: The Lightning T...</td>\n",
              "      <td>Always trouble-prone, the life of teenager Per...</td>\n",
              "      <td>always trouble prone life teenager percy jacks...</td>\n",
              "    </tr>\n",
              "    <tr>\n",
              "      <th>1</th>\n",
              "      <td>Please Give</td>\n",
              "      <td>Kate (Catherine Keener) and her husband Alex (...</td>\n",
              "      <td>kate husband alex wealthy new yorkers prowl es...</td>\n",
              "    </tr>\n",
              "    <tr>\n",
              "      <th>2</th>\n",
              "      <td>10</td>\n",
              "      <td>A successful, middle-aged Hollywood songwriter...</td>\n",
              "      <td>successful middle aged hollywood songwriter fa...</td>\n",
              "    </tr>\n",
              "    <tr>\n",
              "      <th>3</th>\n",
              "      <td>12 Angry Men (Twelve Angry Men)</td>\n",
              "      <td>Following the closing arguments in a murder tr...</td>\n",
              "      <td>follow closing argument murder trial 12 member...</td>\n",
              "    </tr>\n",
              "    <tr>\n",
              "      <th>4</th>\n",
              "      <td>20,000 Leagues Under The Sea</td>\n",
              "      <td>In 1866, Professor Pierre M. Aronnax (Paul Luk...</td>\n",
              "      <td>1866 professor pierre m. aronnax assistant con...</td>\n",
              "    </tr>\n",
              "  </tbody>\n",
              "</table>\n",
              "</div>\n",
              "    <div class=\"colab-df-buttons\">\n",
              "\n",
              "  <div class=\"colab-df-container\">\n",
              "    <button class=\"colab-df-convert\" onclick=\"convertToInteractive('df-bb094e6b-7dea-404d-a3b3-495a2a4e0b27')\"\n",
              "            title=\"Convert this dataframe to an interactive table.\"\n",
              "            style=\"display:none;\">\n",
              "\n",
              "  <svg xmlns=\"http://www.w3.org/2000/svg\" height=\"24px\" viewBox=\"0 -960 960 960\">\n",
              "    <path d=\"M120-120v-720h720v720H120Zm60-500h600v-160H180v160Zm220 220h160v-160H400v160Zm0 220h160v-160H400v160ZM180-400h160v-160H180v160Zm440 0h160v-160H620v160ZM180-180h160v-160H180v160Zm440 0h160v-160H620v160Z\"/>\n",
              "  </svg>\n",
              "    </button>\n",
              "\n",
              "  <style>\n",
              "    .colab-df-container {\n",
              "      display:flex;\n",
              "      gap: 12px;\n",
              "    }\n",
              "\n",
              "    .colab-df-convert {\n",
              "      background-color: #E8F0FE;\n",
              "      border: none;\n",
              "      border-radius: 50%;\n",
              "      cursor: pointer;\n",
              "      display: none;\n",
              "      fill: #1967D2;\n",
              "      height: 32px;\n",
              "      padding: 0 0 0 0;\n",
              "      width: 32px;\n",
              "    }\n",
              "\n",
              "    .colab-df-convert:hover {\n",
              "      background-color: #E2EBFA;\n",
              "      box-shadow: 0px 1px 2px rgba(60, 64, 67, 0.3), 0px 1px 3px 1px rgba(60, 64, 67, 0.15);\n",
              "      fill: #174EA6;\n",
              "    }\n",
              "\n",
              "    .colab-df-buttons div {\n",
              "      margin-bottom: 4px;\n",
              "    }\n",
              "\n",
              "    [theme=dark] .colab-df-convert {\n",
              "      background-color: #3B4455;\n",
              "      fill: #D2E3FC;\n",
              "    }\n",
              "\n",
              "    [theme=dark] .colab-df-convert:hover {\n",
              "      background-color: #434B5C;\n",
              "      box-shadow: 0px 1px 3px 1px rgba(0, 0, 0, 0.15);\n",
              "      filter: drop-shadow(0px 1px 2px rgba(0, 0, 0, 0.3));\n",
              "      fill: #FFFFFF;\n",
              "    }\n",
              "  </style>\n",
              "\n",
              "    <script>\n",
              "      const buttonEl =\n",
              "        document.querySelector('#df-bb094e6b-7dea-404d-a3b3-495a2a4e0b27 button.colab-df-convert');\n",
              "      buttonEl.style.display =\n",
              "        google.colab.kernel.accessAllowed ? 'block' : 'none';\n",
              "\n",
              "      async function convertToInteractive(key) {\n",
              "        const element = document.querySelector('#df-bb094e6b-7dea-404d-a3b3-495a2a4e0b27');\n",
              "        const dataTable =\n",
              "          await google.colab.kernel.invokeFunction('convertToInteractive',\n",
              "                                                    [key], {});\n",
              "        if (!dataTable) return;\n",
              "\n",
              "        const docLinkHtml = 'Like what you see? Visit the ' +\n",
              "          '<a target=\"_blank\" href=https://colab.research.google.com/notebooks/data_table.ipynb>data table notebook</a>'\n",
              "          + ' to learn more about interactive tables.';\n",
              "        element.innerHTML = '';\n",
              "        dataTable['output_type'] = 'display_data';\n",
              "        await google.colab.output.renderOutput(dataTable, element);\n",
              "        const docLink = document.createElement('div');\n",
              "        docLink.innerHTML = docLinkHtml;\n",
              "        element.appendChild(docLink);\n",
              "      }\n",
              "    </script>\n",
              "  </div>\n",
              "\n",
              "\n",
              "<div id=\"df-b722f2db-17be-4f53-9538-64b9f400649f\">\n",
              "  <button class=\"colab-df-quickchart\" onclick=\"quickchart('df-b722f2db-17be-4f53-9538-64b9f400649f')\"\n",
              "            title=\"Suggest charts\"\n",
              "            style=\"display:none;\">\n",
              "\n",
              "<svg xmlns=\"http://www.w3.org/2000/svg\" height=\"24px\"viewBox=\"0 0 24 24\"\n",
              "     width=\"24px\">\n",
              "    <g>\n",
              "        <path d=\"M19 3H5c-1.1 0-2 .9-2 2v14c0 1.1.9 2 2 2h14c1.1 0 2-.9 2-2V5c0-1.1-.9-2-2-2zM9 17H7v-7h2v7zm4 0h-2V7h2v10zm4 0h-2v-4h2v4z\"/>\n",
              "    </g>\n",
              "</svg>\n",
              "  </button>\n",
              "\n",
              "<style>\n",
              "  .colab-df-quickchart {\n",
              "      --bg-color: #E8F0FE;\n",
              "      --fill-color: #1967D2;\n",
              "      --hover-bg-color: #E2EBFA;\n",
              "      --hover-fill-color: #174EA6;\n",
              "      --disabled-fill-color: #AAA;\n",
              "      --disabled-bg-color: #DDD;\n",
              "  }\n",
              "\n",
              "  [theme=dark] .colab-df-quickchart {\n",
              "      --bg-color: #3B4455;\n",
              "      --fill-color: #D2E3FC;\n",
              "      --hover-bg-color: #434B5C;\n",
              "      --hover-fill-color: #FFFFFF;\n",
              "      --disabled-bg-color: #3B4455;\n",
              "      --disabled-fill-color: #666;\n",
              "  }\n",
              "\n",
              "  .colab-df-quickchart {\n",
              "    background-color: var(--bg-color);\n",
              "    border: none;\n",
              "    border-radius: 50%;\n",
              "    cursor: pointer;\n",
              "    display: none;\n",
              "    fill: var(--fill-color);\n",
              "    height: 32px;\n",
              "    padding: 0;\n",
              "    width: 32px;\n",
              "  }\n",
              "\n",
              "  .colab-df-quickchart:hover {\n",
              "    background-color: var(--hover-bg-color);\n",
              "    box-shadow: 0 1px 2px rgba(60, 64, 67, 0.3), 0 1px 3px 1px rgba(60, 64, 67, 0.15);\n",
              "    fill: var(--button-hover-fill-color);\n",
              "  }\n",
              "\n",
              "  .colab-df-quickchart-complete:disabled,\n",
              "  .colab-df-quickchart-complete:disabled:hover {\n",
              "    background-color: var(--disabled-bg-color);\n",
              "    fill: var(--disabled-fill-color);\n",
              "    box-shadow: none;\n",
              "  }\n",
              "\n",
              "  .colab-df-spinner {\n",
              "    border: 2px solid var(--fill-color);\n",
              "    border-color: transparent;\n",
              "    border-bottom-color: var(--fill-color);\n",
              "    animation:\n",
              "      spin 1s steps(1) infinite;\n",
              "  }\n",
              "\n",
              "  @keyframes spin {\n",
              "    0% {\n",
              "      border-color: transparent;\n",
              "      border-bottom-color: var(--fill-color);\n",
              "      border-left-color: var(--fill-color);\n",
              "    }\n",
              "    20% {\n",
              "      border-color: transparent;\n",
              "      border-left-color: var(--fill-color);\n",
              "      border-top-color: var(--fill-color);\n",
              "    }\n",
              "    30% {\n",
              "      border-color: transparent;\n",
              "      border-left-color: var(--fill-color);\n",
              "      border-top-color: var(--fill-color);\n",
              "      border-right-color: var(--fill-color);\n",
              "    }\n",
              "    40% {\n",
              "      border-color: transparent;\n",
              "      border-right-color: var(--fill-color);\n",
              "      border-top-color: var(--fill-color);\n",
              "    }\n",
              "    60% {\n",
              "      border-color: transparent;\n",
              "      border-right-color: var(--fill-color);\n",
              "    }\n",
              "    80% {\n",
              "      border-color: transparent;\n",
              "      border-right-color: var(--fill-color);\n",
              "      border-bottom-color: var(--fill-color);\n",
              "    }\n",
              "    90% {\n",
              "      border-color: transparent;\n",
              "      border-bottom-color: var(--fill-color);\n",
              "    }\n",
              "  }\n",
              "</style>\n",
              "\n",
              "  <script>\n",
              "    async function quickchart(key) {\n",
              "      const quickchartButtonEl =\n",
              "        document.querySelector('#' + key + ' button');\n",
              "      quickchartButtonEl.disabled = true;  // To prevent multiple clicks.\n",
              "      quickchartButtonEl.classList.add('colab-df-spinner');\n",
              "      try {\n",
              "        const charts = await google.colab.kernel.invokeFunction(\n",
              "            'suggestCharts', [key], {});\n",
              "      } catch (error) {\n",
              "        console.error('Error during call to suggestCharts:', error);\n",
              "      }\n",
              "      quickchartButtonEl.classList.remove('colab-df-spinner');\n",
              "      quickchartButtonEl.classList.add('colab-df-quickchart-complete');\n",
              "    }\n",
              "    (() => {\n",
              "      let quickchartButtonEl =\n",
              "        document.querySelector('#df-b722f2db-17be-4f53-9538-64b9f400649f button');\n",
              "      quickchartButtonEl.style.display =\n",
              "        google.colab.kernel.accessAllowed ? 'block' : 'none';\n",
              "    })();\n",
              "  </script>\n",
              "</div>\n",
              "\n",
              "    </div>\n",
              "  </div>\n"
            ],
            "application/vnd.google.colaboratory.intrinsic+json": {
              "type": "dataframe",
              "variable_name": "similarity_df",
              "summary": "{\n  \"name\": \"similarity_df\",\n  \"rows\": 17391,\n  \"fields\": [\n    {\n      \"column\": \"movie_title\",\n      \"properties\": {\n        \"dtype\": \"string\",\n        \"num_unique_values\": 16805,\n        \"samples\": [\n          \"Autumn in New York\",\n          \"The City of Your Final Destination\",\n          \"Living Is Easy With Eyes Closed\"\n        ],\n        \"semantic_type\": \"\",\n        \"description\": \"\"\n      }\n    },\n    {\n      \"column\": \"movie_info\",\n      \"properties\": {\n        \"dtype\": \"string\",\n        \"num_unique_values\": 17389,\n        \"samples\": [\n          \"When government scientist Xavier Fitch (Ben Kingsley) intercepts a space transmission containing the genetic sequence for an alien life form, he uses it to produce \\\"Sil\\\" (Natasha Henstridge) -- a gorgeous alien-human hybrid. As Fitch's team grows concerned at her rapid rate of growth, Sil wrecks the laboratory and begins a violent quest for a suitable male human to impregnate her. The U.S. government dispatches top assassin Preston Lennox (Michael Madsen) and a team of experts to stop her.\",\n          \"Noriko seeks an identity of her own after 40 years of marriage to famous boxing artist Ushio Shinohara.\",\n          \"Annie (Sandra Bullock) is looking forward to a Caribbean cruise with her cop boyfriend, Alex (Jason Patric), who purchased the tickets to make up for lying about working on the SWAT team. Their trip turns dangerous, however, when an explosion disables the ship's communication system and it becomes clear that the vessel is under someone else's control. Alex and Annie must fight for survival as they discover that John Geiger (Willem Dafoe), a crazed passenger, is behind the chaos.\"\n        ],\n        \"semantic_type\": \"\",\n        \"description\": \"\"\n      }\n    },\n    {\n      \"column\": \"processed_movie_info\",\n      \"properties\": {\n        \"dtype\": \"string\",\n        \"num_unique_values\": 17389,\n        \"samples\": [\n          \"government scientist xavier fitch intercept space transmission contain genetic sequence alien life form use produce sil -- gorgeous alien human hybrid fitch 's team grow concerned rapid rate growth sil wreck laboratory begin violent quest suitable male human impregnate u.s . government dispatch top assassin preston lennox team expert stop\",\n          \"noriko seek identity 40 year marriage famous boxing artist ushio shinohara\",\n          \"annie look forward caribbean cruise cop boyfriend alex purchase ticket make lie work swat team trip turn dangerous however explosion disable ship 's communication system become clear vessel someone else 's control alex annie must fight survival discover john geiger craze passenger behind chaos\"\n        ],\n        \"semantic_type\": \"\",\n        \"description\": \"\"\n      }\n    }\n  ]\n}"
            }
          },
          "metadata": {},
          "execution_count": 17
        }
      ]
    },
    {
      "cell_type": "code",
      "source": [
        "similarity_df[['movie_title','processed_movie_info']].sample(2).values"
      ],
      "metadata": {
        "colab": {
          "base_uri": "https://localhost:8080/"
        },
        "id": "7g9MGX4Y897d",
        "outputId": "119901fc-8c73-47a3-dc84-3485c560ab37"
      },
      "execution_count": 18,
      "outputs": [
        {
          "output_type": "execute_result",
          "data": {
            "text/plain": [
              "array([['The Last Legion',\n",
              "        'fall rome last emperor 12 year old romulus augustus become prisoner island capri help wise teacher ambrosinu legionnaire aurelius escape capri man journey britannia find fabled dragon legion begin arthurian legend bear'],\n",
              "       ['Burglar',\n",
              "        \"bookstore owner burglar bernie blackmail corrupt cop ray force ambitious job yet jewelry store heist 's woefully prepare thing head south quickly murder occur bernie frame death bernie manic sidekick carl clear bernie 's name get back normal routine selling book steal\"]],\n",
              "      dtype=object)"
            ]
          },
          "metadata": {},
          "execution_count": 18
        }
      ]
    },
    {
      "cell_type": "markdown",
      "source": [
        "['The Third Man',\n",
        "        \"The film stars Joseph Cotten as Holly Martins, a writer of pulp westerns who arrives penniless as a guest of his childhood chum, Harry Lime. However, Martins discovers that Lime is dead and develops a conspiracy theory. As he learns more about the circumstances of Lime's death, he becomes convinced that a \"third man\" was present at the time. Martins finds himself running interference with British officer Major Calloway and falls head over heels for Lime's grief-stricken lover, Anna.\"],        \n",
        "['They Drive by Night',\n",
        "'Joe and Paul, who work as delivery truck drivers. They are pushing hard to try to run their business successfully. One night, due to fatigue, Paul falls asleep behind the wheel and demolishes the truck, losing his arm in the process. Joe is offered a job by the truck company owner, whose wife, Lana, falls for Joe. Lana kills her husband, and Joe refuses her advances, leading Lana to frame him for the murder. Meanwhile, Joe's love interest, Cassie, becomes entangled in the unfolding drama.']]"
      ],
      "metadata": {
        "id": "Mkw_wd095Yil"
      }
    },
    {
      "cell_type": "code",
      "source": [
        "user_input_text = \"\"\"The film stars Joseph Cotten as Holly Martins, a writer of pulp westerns who arrives penniless as a guest of his childhood chum, Harry Lime. However, Martins discovers that Lime is dead and develops a conspiracy theory. As he learns more about the circumstances of Lime's death, he becomes convinced that a \"third man\" was present at the time. Martins finds himself running interference with British officer Major Calloway and falls head over heels for Lime's grief-stricken lover, Anna.\"\"\"\n",
        "user_input_text=pre_process_text(user_input_text)"
      ],
      "metadata": {
        "id": "ZUvsid3d8937"
      },
      "execution_count": 19,
      "outputs": []
    },
    {
      "cell_type": "code",
      "source": [],
      "metadata": {
        "id": "_3hG3Al5BMwa"
      },
      "execution_count": 19,
      "outputs": []
    },
    {
      "cell_type": "code",
      "source": [
        "from sklearn.metrics.pairwise import cosine_similarity\n",
        "from sklearn.feature_extraction.text import TfidfVectorizer"
      ],
      "metadata": {
        "id": "KqD6wjYm89yN"
      },
      "execution_count": 20,
      "outputs": []
    },
    {
      "cell_type": "code",
      "source": [
        "vector = TfidfVectorizer(max_df=0.95,max_features=3000)"
      ],
      "metadata": {
        "id": "kKTzxE7C89vP"
      },
      "execution_count": 21,
      "outputs": []
    },
    {
      "cell_type": "code",
      "source": [
        "def get_similar_movies(top_n,user_input_text):\n",
        "  user_input_text=pre_process_text(user_input_text)\n",
        "  tfidf_matrix=vector.fit_transform(list(similarity_df['processed_movie_info']) + [user_input_text])\n",
        "  user_tfidf_data=tfidf_matrix[-1]\n",
        "  movie_tfidf_data=tfidf_matrix[:-1]\n",
        "  cosine_similarities = cosine_similarity(user_tfidf_data, movie_tfidf_data)\n",
        "  cosine_similarities=cosine_similarities.flatten()\n",
        "  similar_cosine_indices=cosine_similarities.argsort()[::-1]\n",
        "  for index in similar_cosine_indices[:top_n]:\n",
        "    print(f\"Similarity Score: {cosine_similarities[index]}\\t Movie Title: {similarity_df.loc[index,'movie_title']}\")"
      ],
      "metadata": {
        "id": "SZqZ_ZtvKGkF"
      },
      "execution_count": 22,
      "outputs": []
    },
    {
      "cell_type": "code",
      "source": [
        "get_similar_movies(10,\"\"\"A young orphan girl named Mary discovers a hidden, magical garden on her uncle's estate. With the help of her newfound friends, she unlocks the garden's mysteries and learns the power of friendship, love, and the beauty of nature.\"\"\")"
      ],
      "metadata": {
        "colab": {
          "base_uri": "https://localhost:8080/"
        },
        "id": "TeL-2lQ2Kfdx",
        "outputId": "eaec38b4-50c5-49aa-80d8-80747b6cbe5d"
      },
      "execution_count": 30,
      "outputs": [
        {
          "output_type": "stream",
          "name": "stdout",
          "text": [
            "Similarity Score: 0.5256306284790921\t Movie Title: The Secret Garden\n",
            "Similarity Score: 0.4213112661614988\t Movie Title: The Secret Garden\n",
            "Similarity Score: 0.3870256851977184\t Movie Title: Gnomeo and Juliet\n",
            "Similarity Score: 0.34493388373478234\t Movie Title: Shut Up and Play the Hits\n",
            "Similarity Score: 0.3004621770499458\t Movie Title: The Treasure\n",
            "Similarity Score: 0.28687824945119045\t Movie Title: Sherlock Gnomes\n",
            "Similarity Score: 0.24135415928218354\t Movie Title: Mirai\n",
            "Similarity Score: 0.23608764071998817\t Movie Title: A Man Named Pearl\n",
            "Similarity Score: 0.23470212797820328\t Movie Title: The Garden\n",
            "Similarity Score: 0.21315143268453418\t Movie Title: Alice in Wonderland\n"
          ]
        }
      ]
    },
    {
      "cell_type": "code",
      "source": [
        "review=\"\"\"Bloody and boring, and built around Jared Leto's dentistry, Will Smith's high mileage and Margot Robbie's butt cheeks.\"\"\"\n",
        "get_similar_movies(10,review)"
      ],
      "metadata": {
        "colab": {
          "base_uri": "https://localhost:8080/"
        },
        "id": "xGz4CdrnawO9",
        "outputId": "858e3ee4-5ac8-4efc-be92-835304594bec"
      },
      "execution_count": 29,
      "outputs": [
        {
          "output_type": "stream",
          "name": "stdout",
          "text": [
            "Similarity Score: 0.3612892371408698\t Movie Title: Mr. Smith Goes to Washington\n",
            "Similarity Score: 0.30935961991529165\t Movie Title: The New World\n",
            "Similarity Score: 0.2952318510188148\t Movie Title: The A-Team\n",
            "Similarity Score: 0.27661769850183215\t Movie Title: Pocahontas\n",
            "Similarity Score: 0.2749960644422015\t Movie Title: The Lawnmower Man\n",
            "Similarity Score: 0.2707203033393624\t Movie Title: Support Your Local Gunfighter\n",
            "Similarity Score: 0.26161375624153227\t Movie Title: Bride of Re-Animator\n",
            "Similarity Score: 0.24164755714205008\t Movie Title: In My Father's House\n",
            "Similarity Score: 0.23508412766927347\t Movie Title: Birdemic: Shock And Terror\n",
            "Similarity Score: 0.23041288917158742\t Movie Title: Shoot 'Em Up\n"
          ]
        }
      ]
    },
    {
      "cell_type": "code",
      "source": [
        "critic_df=pd.read_csv(path+\"\")"
      ],
      "metadata": {
        "id": "5RWM_ueuZRiD"
      },
      "execution_count": null,
      "outputs": []
    },
    {
      "cell_type": "code",
      "source": [],
      "metadata": {
        "id": "c6cZ5MwRZRbq"
      },
      "execution_count": null,
      "outputs": []
    },
    {
      "cell_type": "code",
      "source": [],
      "metadata": {
        "id": "jNt0YJwXZRXL"
      },
      "execution_count": null,
      "outputs": []
    },
    {
      "cell_type": "code",
      "source": [],
      "metadata": {
        "id": "mEQMdF9dZRUf"
      },
      "execution_count": null,
      "outputs": []
    },
    {
      "cell_type": "code",
      "source": [],
      "metadata": {
        "id": "G6ZfQv8lZRRE"
      },
      "execution_count": null,
      "outputs": []
    },
    {
      "cell_type": "code",
      "source": [],
      "metadata": {
        "id": "qeghAgjrZRN_"
      },
      "execution_count": null,
      "outputs": []
    },
    {
      "cell_type": "code",
      "source": [],
      "metadata": {
        "id": "N8i-n0GcZRKm"
      },
      "execution_count": null,
      "outputs": []
    },
    {
      "cell_type": "code",
      "source": [],
      "metadata": {
        "id": "cla77U_aZRHe"
      },
      "execution_count": null,
      "outputs": []
    },
    {
      "cell_type": "code",
      "source": [],
      "metadata": {
        "id": "RXYipezLZRDi"
      },
      "execution_count": null,
      "outputs": []
    },
    {
      "cell_type": "code",
      "source": [],
      "metadata": {
        "id": "-ZPuatMIZQ-t"
      },
      "execution_count": null,
      "outputs": []
    },
    {
      "cell_type": "code",
      "source": [],
      "metadata": {
        "id": "NZ-TJ18ZZQ5W"
      },
      "execution_count": null,
      "outputs": []
    },
    {
      "cell_type": "code",
      "source": [],
      "metadata": {
        "id": "2Rjx4feRZQ2D"
      },
      "execution_count": null,
      "outputs": []
    },
    {
      "cell_type": "code",
      "source": [],
      "metadata": {
        "id": "TCC_NemmZQwU"
      },
      "execution_count": null,
      "outputs": []
    },
    {
      "cell_type": "code",
      "source": [
        "similarity_df.shape"
      ],
      "metadata": {
        "colab": {
          "base_uri": "https://localhost:8080/"
        },
        "id": "CIOMiAsjB7bZ",
        "outputId": "80af9ca2-3e20-4b02-c00a-9a46dca90a0d"
      },
      "execution_count": 24,
      "outputs": [
        {
          "output_type": "execute_result",
          "data": {
            "text/plain": [
              "(17391, 3)"
            ]
          },
          "metadata": {},
          "execution_count": 24
        }
      ]
    },
    {
      "cell_type": "code",
      "source": [
        "tfidf_matrix=vector.fit_transform(list(similarity_df['processed_movie_info']) + [user_input_text])"
      ],
      "metadata": {
        "id": "fvxByFzg89nP"
      },
      "execution_count": 25,
      "outputs": []
    },
    {
      "cell_type": "code",
      "source": [
        "tfidf_matrix.toarray().shape"
      ],
      "metadata": {
        "colab": {
          "base_uri": "https://localhost:8080/"
        },
        "id": "GGl37J11_s_Q",
        "outputId": "8325f2fb-77e5-463f-c3d2-478068dc5388"
      },
      "execution_count": null,
      "outputs": [
        {
          "output_type": "execute_result",
          "data": {
            "text/plain": [
              "(17392, 3000)"
            ]
          },
          "metadata": {},
          "execution_count": 28
        }
      ]
    },
    {
      "cell_type": "code",
      "source": [
        "tfidf_matrix.shape"
      ],
      "metadata": {
        "colab": {
          "base_uri": "https://localhost:8080/"
        },
        "id": "oBMk1Eye_s8f",
        "outputId": "27624888-e64f-48e0-a46a-7aadf38ff5c6"
      },
      "execution_count": null,
      "outputs": [
        {
          "output_type": "execute_result",
          "data": {
            "text/plain": [
              "(17392, 3000)"
            ]
          },
          "metadata": {},
          "execution_count": 29
        }
      ]
    },
    {
      "cell_type": "code",
      "source": [
        "user_tfidf_data=tfidf_matrix[-1]\n",
        "movie_tfidf_data=tfidf_matrix[:-1]"
      ],
      "metadata": {
        "id": "GVgz6w2W_s5n"
      },
      "execution_count": null,
      "outputs": []
    },
    {
      "cell_type": "code",
      "source": [
        "cosine_similarities = cosine_similarity(user_tfidf_data, movie_tfidf_data)"
      ],
      "metadata": {
        "id": "hqxcGwiv89kZ"
      },
      "execution_count": null,
      "outputs": []
    },
    {
      "cell_type": "code",
      "source": [
        "cosine_similarities.shape,cosine_similarities.flatten().shape"
      ],
      "metadata": {
        "colab": {
          "base_uri": "https://localhost:8080/"
        },
        "id": "r2eZqmrhCu8f",
        "outputId": "54c394cf-e3e3-41dd-b6d1-f20976a06d05"
      },
      "execution_count": null,
      "outputs": [
        {
          "output_type": "execute_result",
          "data": {
            "text/plain": [
              "((1, 17391), (17391,))"
            ]
          },
          "metadata": {},
          "execution_count": 32
        }
      ]
    },
    {
      "cell_type": "code",
      "source": [
        "cosine_similarities=cosine_similarities.flatten()"
      ],
      "metadata": {
        "id": "k42k-LD7Cu57"
      },
      "execution_count": null,
      "outputs": []
    },
    {
      "cell_type": "code",
      "source": [
        "cosine_similarities"
      ],
      "metadata": {
        "colab": {
          "base_uri": "https://localhost:8080/"
        },
        "id": "iCuF74_9HSEs",
        "outputId": "3cdac56a-ea36-4a7d-feb4-157dd817c398"
      },
      "execution_count": null,
      "outputs": [
        {
          "output_type": "execute_result",
          "data": {
            "text/plain": [
              "array([0.02677294, 0.        , 0.01489644, ..., 0.06878839, 0.0924994 ,\n",
              "       0.        ])"
            ]
          },
          "metadata": {},
          "execution_count": 34
        }
      ]
    },
    {
      "cell_type": "code",
      "source": [
        "similar_cosine_indices=cosine_similarities.argsort()[::-1]"
      ],
      "metadata": {
        "id": "wzRq4z6rCu2-"
      },
      "execution_count": null,
      "outputs": []
    },
    {
      "cell_type": "code",
      "source": [
        "similar_cosine_indices"
      ],
      "metadata": {
        "colab": {
          "base_uri": "https://localhost:8080/"
        },
        "id": "fCIiMFreCuxm",
        "outputId": "95347170-d8f6-4302-d0b7-d722dfccb609"
      },
      "execution_count": null,
      "outputs": [
        {
          "output_type": "execute_result",
          "data": {
            "text/plain": [
              "array([15624, 11895, 15442, ...,  8922,  8920,  8695])"
            ]
          },
          "metadata": {},
          "execution_count": 36
        }
      ]
    },
    {
      "cell_type": "code",
      "source": [
        "cosine_similarities[similar_cosine_indices[0]]"
      ],
      "metadata": {
        "colab": {
          "base_uri": "https://localhost:8080/"
        },
        "id": "dAsYNr7iI7UL",
        "outputId": "766df8b4-b249-4f7a-ded4-d9f96b3f77fd"
      },
      "execution_count": null,
      "outputs": [
        {
          "output_type": "execute_result",
          "data": {
            "text/plain": [
              "0.8323048425054459"
            ]
          },
          "metadata": {},
          "execution_count": 37
        }
      ]
    },
    {
      "cell_type": "code",
      "source": [
        "top_n = 10\n",
        "for index in similar_cosine_indices[:top_n]:\n",
        "  print(f\"Similarity Score: {cosine_similarities[index]}\\tMovie Title: {similarity_df.loc[index,'movie_title']}\")"
      ],
      "metadata": {
        "colab": {
          "base_uri": "https://localhost:8080/"
        },
        "id": "aeMQofjMEOvD",
        "outputId": "94f70cf1-628c-47af-9e79-c45d32808dff"
      },
      "execution_count": null,
      "outputs": [
        {
          "output_type": "stream",
          "name": "stdout",
          "text": [
            "Similarity Score: 0.8323048425054459\tMovie Title: The Third Man\n",
            "Similarity Score: 0.3403230061486163\tMovie Title: Proof\n",
            "Similarity Score: 0.33895396992702564\tMovie Title: The Return of Martin Guerre (Le Retour de Martin Guerre)\n",
            "Similarity Score: 0.32507659828098884\tMovie Title: Tortilla Soup\n",
            "Similarity Score: 0.31240983370169256\tMovie Title: Sneakers\n",
            "Similarity Score: 0.2878716767293235\tMovie Title: Closed Circuit\n",
            "Similarity Score: 0.2850964505222563\tMovie Title: Great World of Sound\n",
            "Similarity Score: 0.28105838128219396\tMovie Title: Grosse Pointe Blank\n",
            "Similarity Score: 0.27614935405073354\tMovie Title: A Song for Martin\n",
            "Similarity Score: 0.2694335871969458\tMovie Title: Flesh & Blood (Flesh+Blood) (The Rose and the Sword)\n"
          ]
        }
      ]
    },
    {
      "cell_type": "code",
      "source": [],
      "metadata": {
        "id": "tML6LR9dEOhL"
      },
      "execution_count": null,
      "outputs": []
    },
    {
      "cell_type": "code",
      "source": [],
      "metadata": {
        "id": "YxcHzTKG89h3"
      },
      "execution_count": null,
      "outputs": []
    },
    {
      "cell_type": "code",
      "source": [],
      "metadata": {
        "id": "ZAZGOVBe89e0"
      },
      "execution_count": null,
      "outputs": []
    },
    {
      "cell_type": "code",
      "source": [
        "def get_years(text):\n",
        "  user_years=dict()\n",
        "  early_match = re.search(r\"early (\\d{4})\", text)\n",
        "  late_match = re.search(r\"late (\\d{4})\", text)\n",
        "  between_match = re.search(r\"between (\\d{4}) and (\\d{4})\", text)\n",
        "\n",
        "  early_year = early_match.group(1) if early_match else None\n",
        "  late_year = late_match.group(1) if late_match else None\n",
        "  between_start_year = between_match.group(1) if between_match else None\n",
        "  between_end_year = between_match.group(2) if between_match else None\n",
        "\n",
        "  user_years ={\n",
        "      'early_year':int(early_year),\n",
        "      'late_year':int(late_year),\n",
        "      'between_start_year':int(between_start_year),\n",
        "      'between_end_year':int(between_end_year)\n",
        "  }\n",
        "  return user_years"
      ],
      "metadata": {
        "id": "gwgtyXOy_xjR"
      },
      "execution_count": null,
      "outputs": []
    },
    {
      "cell_type": "code",
      "source": [
        "get_years(\"I watched a movie in the early 2000s and it was again released in late 2010s but the movie between 1990 and 2000s are gold\")"
      ],
      "metadata": {
        "colab": {
          "base_uri": "https://localhost:8080/"
        },
        "id": "3gaSIsRO_9Yz",
        "outputId": "10f3e1a6-bc85-463e-8304-899569d31e8b"
      },
      "execution_count": null,
      "outputs": [
        {
          "output_type": "execute_result",
          "data": {
            "text/plain": [
              "{'early_year': 2000,\n",
              " 'late_year': 2010,\n",
              " 'between_start_year': 1990,\n",
              " 'between_end_year': 2000}"
            ]
          },
          "metadata": {},
          "execution_count": 40
        }
      ]
    },
    {
      "cell_type": "code",
      "source": [
        "\n",
        "\n",
        "text = \"early 2000s and late 1900s and in between 2010 and 2012\"\n",
        "\n",
        "early_match = re.search(r\"early (\\d{4})\", text)\n",
        "late_match = re.search(r\"late (\\d{4})\", text)\n",
        "between_match = re.search(r\"between (\\d{4}) and (\\d{4})\", text)\n",
        "\n",
        "early_year = early_match.group(1) if early_match else None\n",
        "late_year = late_match.group(1) if late_match else None\n",
        "between_start_year = between_match.group(1) if between_match else None\n",
        "between_end_year = between_match.group(2) if between_match else None\n",
        "\n",
        "print(\"Early:\", early_year)\n",
        "print(\"Late:\", late_year)\n",
        "print(\"Between:\", between_start_year, \"and\", between_end_year)\n"
      ],
      "metadata": {
        "id": "BtJ2ERDMMBTV",
        "colab": {
          "base_uri": "https://localhost:8080/"
        },
        "outputId": "68b014e0-5d54-4842-bf68-23465f7882b7"
      },
      "execution_count": null,
      "outputs": [
        {
          "output_type": "stream",
          "name": "stdout",
          "text": [
            "Early: 2000\n",
            "Late: 1900\n",
            "Between: 2010 and 2012\n"
          ]
        }
      ]
    }
  ]
}